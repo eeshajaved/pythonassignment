{
 "cells": [
  {
   "cell_type": "markdown",
   "id": "eeab393d",
   "metadata": {},
   "source": [
    "# Chapter no 9"
   ]
  },
  {
   "cell_type": "code",
   "execution_count": 1,
   "id": "322b6eb2",
   "metadata": {},
   "outputs": [
    {
     "name": "stdout",
     "output_type": "stream",
     "text": [
      "{'money': 12, 'candy': 3, 'tissues': 75}\n"
     ]
    }
   ],
   "source": [
    "purse = dict()\n",
    "purse['money'] = 12\n",
    "purse['candy'] = 3\n",
    "purse['tissues'] = 75\n",
    "print(purse)"
   ]
  },
  {
   "cell_type": "code",
   "execution_count": 2,
   "id": "73f71943",
   "metadata": {},
   "outputs": [
    {
     "name": "stdout",
     "output_type": "stream",
     "text": [
      "{'age': 21, 'course': 182}\n"
     ]
    }
   ],
   "source": [
    "ddd = dict()\n",
    "ddd['age'] = 21\n",
    "ddd['course'] = 182\n",
    "print(ddd)"
   ]
  },
  {
   "cell_type": "code",
   "execution_count": 3,
   "id": "5db73d00",
   "metadata": {},
   "outputs": [
    {
     "name": "stdout",
     "output_type": "stream",
     "text": [
      "{'age': 23, 'course': 182}\n"
     ]
    }
   ],
   "source": [
    "ddd['age'] = 23\n",
    "print(ddd)"
   ]
  },
  {
   "cell_type": "code",
   "execution_count": 4,
   "id": "86c4fda5",
   "metadata": {},
   "outputs": [
    {
     "name": "stdout",
     "output_type": "stream",
     "text": [
      "[21, 183]\n"
     ]
    }
   ],
   "source": [
    "lst = list()\n",
    "lst.append(21)\n",
    "lst.append(183)\n",
    "print(lst)"
   ]
  },
  {
   "cell_type": "code",
   "execution_count": 5,
   "id": "b120eb0c",
   "metadata": {},
   "outputs": [
    {
     "name": "stdout",
     "output_type": "stream",
     "text": [
      "{'chuck': 1, 'fred': 42, 'jan': 100}\n"
     ]
    }
   ],
   "source": [
    "jjj = { 'chuck' : 1 , 'fred' : 42, 'jan': 100}\n",
    "print(jjj)"
   ]
  },
  {
   "cell_type": "code",
   "execution_count": 6,
   "id": "a16f050f",
   "metadata": {},
   "outputs": [
    {
     "name": "stdout",
     "output_type": "stream",
     "text": [
      "{}\n"
     ]
    }
   ],
   "source": [
    "ooo = { }\n",
    "print(ooo)"
   ]
  },
  {
   "cell_type": "code",
   "execution_count": 9,
   "id": "b0431b29",
   "metadata": {},
   "outputs": [
    {
     "name": "stdout",
     "output_type": "stream",
     "text": [
      "{'csev': 1, 'cwen': 1}\n"
     ]
    }
   ],
   "source": [
    "ccc = dict()\n",
    "ccc['csev'] = 1\n",
    "ccc['cwen'] = 1\n",
    "print(ccc)"
   ]
  },
  {
   "cell_type": "code",
   "execution_count": 10,
   "id": "4088f887",
   "metadata": {},
   "outputs": [
    {
     "ename": "KeyError",
     "evalue": "'csev'",
     "output_type": "error",
     "traceback": [
      "\u001b[1;31m---------------------------------------------------------------------------\u001b[0m",
      "\u001b[1;31mKeyError\u001b[0m                                  Traceback (most recent call last)",
      "Cell \u001b[1;32mIn[10], line 2\u001b[0m\n\u001b[0;32m      1\u001b[0m ccc \u001b[38;5;241m=\u001b[39m \u001b[38;5;28mdict\u001b[39m()\n\u001b[1;32m----> 2\u001b[0m \u001b[38;5;28mprint\u001b[39m(ccc[\u001b[38;5;124m'\u001b[39m\u001b[38;5;124mcsev\u001b[39m\u001b[38;5;124m'\u001b[39m])\n",
      "\u001b[1;31mKeyError\u001b[0m: 'csev'"
     ]
    }
   ],
   "source": [
    "ccc = dict()\n",
    "print(ccc['csev'])"
   ]
  },
  {
   "cell_type": "code",
   "execution_count": 11,
   "id": "fa3144a0",
   "metadata": {},
   "outputs": [
    {
     "name": "stdout",
     "output_type": "stream",
     "text": [
      "{'csev': 2, 'cwen': 2, 'zqian': 1}\n"
     ]
    }
   ],
   "source": [
    "counts = dict()\n",
    "names = ['csev', 'cwen', 'csev', 'zqian', 'cwen']\n",
    "for name in names :\n",
    "  if name not in counts:\n",
    "   counts[name] = 1\n",
    "  else :\n",
    "   counts[name] = counts[name] + 1\n",
    "print(counts)"
   ]
  },
  {
   "cell_type": "code",
   "execution_count": 14,
   "id": "642c50e3",
   "metadata": {},
   "outputs": [],
   "source": [
    "if name in counts:\n",
    " x = counts[name]\n",
    "else :\n",
    " x = 0\n",
    "x = counts.get(name, 0)"
   ]
  },
  {
   "cell_type": "code",
   "execution_count": 15,
   "id": "0266b73e",
   "metadata": {},
   "outputs": [
    {
     "name": "stdout",
     "output_type": "stream",
     "text": [
      "{'csev': 2, 'cwen': 2, 'zqian': 1}\n"
     ]
    }
   ],
   "source": [
    "counts = dict()\n",
    "names = ['csev', 'cwen', 'csev', 'zqian', 'cwen']\n",
    "for name in names :\n",
    "  counts[name] = counts.get(name, 0) + 1\n",
    "print(counts)"
   ]
  },
  {
   "cell_type": "code",
   "execution_count": 16,
   "id": "aba727e9",
   "metadata": {},
   "outputs": [
    {
     "name": "stdout",
     "output_type": "stream",
     "text": [
      "{'csev': 2, 'cwen': 2, 'zqian': 1}\n"
     ]
    }
   ],
   "source": [
    "counts = dict()\n",
    "names = ['csev', 'cwen', 'csev', 'zqian', 'cwen']\n",
    "for name in names :\n",
    " counts[name] = counts.get(name, 0) + 1\n",
    "print(counts)"
   ]
  },
  {
   "cell_type": "code",
   "execution_count": 17,
   "id": "ee05a966",
   "metadata": {},
   "outputs": [
    {
     "name": "stdout",
     "output_type": "stream",
     "text": [
      "Enter a line of text:\n",
      "sajdashdjkashdjk\n",
      "Words: ['sajdashdjkashdjk']\n",
      "Counting...\n",
      "Counts {'sajdashdjkashdjk': 1}\n"
     ]
    }
   ],
   "source": [
    "counts = dict()\n",
    "print('Enter a line of text:')\n",
    "line = input('')\n",
    "words = line.split()\n",
    "print('Words:', words)\n",
    "print('Counting...')\n",
    "for word in words:\n",
    " counts[word] = counts.get(word,0) + 1\n",
    "print('Counts', counts)"
   ]
  },
  {
   "cell_type": "code",
   "execution_count": 18,
   "id": "9d0c1a2b",
   "metadata": {},
   "outputs": [
    {
     "ename": "SyntaxError",
     "evalue": "unterminated string literal (detected at line 5) (3215479010.py, line 5)",
     "output_type": "error",
     "traceback": [
      "\u001b[1;36m  Cell \u001b[1;32mIn[18], line 5\u001b[1;36m\u001b[0m\n\u001b[1;33m    print('Counting...’)\u001b[0m\n\u001b[1;37m          ^\u001b[0m\n\u001b[1;31mSyntaxError\u001b[0m\u001b[1;31m:\u001b[0m unterminated string literal (detected at line 5)\n"
     ]
    }
   ],
   "source": [
    "counts = dict()\n",
    "line = input('Enter a line of text:')\n",
    "words = line.split()\n",
    "print('Words:', words)\n",
    "print('Counting...’)\n",
    "for word in words:\n",
    "counts[word] = counts.get(word,0) + 1\n",
    "print('Counts', counts)"
   ]
  },
  {
   "cell_type": "code",
   "execution_count": 19,
   "id": "d4716576",
   "metadata": {},
   "outputs": [
    {
     "name": "stdout",
     "output_type": "stream",
     "text": [
      "chuck 1\n",
      "fred 42\n",
      "jan 100\n"
     ]
    }
   ],
   "source": [
    "jjj = { 'chuck' : 1 , 'fred' : 42, 'jan': 100}\n",
    "for aaa,bbb in jjj.items() :\n",
    " print(aaa, bbb)"
   ]
  },
  {
   "cell_type": "code",
   "execution_count": null,
   "id": "a1561052",
   "metadata": {},
   "outputs": [],
   "source": []
  }
 ],
 "metadata": {
  "kernelspec": {
   "display_name": "Python 3 (ipykernel)",
   "language": "python",
   "name": "python3"
  },
  "language_info": {
   "codemirror_mode": {
    "name": "ipython",
    "version": 3
   },
   "file_extension": ".py",
   "mimetype": "text/x-python",
   "name": "python",
   "nbconvert_exporter": "python",
   "pygments_lexer": "ipython3",
   "version": "3.11.4"
  }
 },
 "nbformat": 4,
 "nbformat_minor": 5
}
